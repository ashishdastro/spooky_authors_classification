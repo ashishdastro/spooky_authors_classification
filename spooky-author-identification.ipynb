{
 "cells": [
  {
   "cell_type": "code",
   "execution_count": 1,
   "id": "ab2fea7a",
   "metadata": {
    "_cell_guid": "b1076dfc-b9ad-4769-8c92-a6c4dae69d19",
    "_uuid": "8f2839f25d086af736a60e9eeb907d3b93b6e0e5",
    "execution": {
     "iopub.execute_input": "2022-08-31T13:43:42.427547Z",
     "iopub.status.busy": "2022-08-31T13:43:42.427107Z",
     "iopub.status.idle": "2022-08-31T13:43:42.445462Z",
     "shell.execute_reply": "2022-08-31T13:43:42.444781Z"
    },
    "papermill": {
     "duration": 0.038605,
     "end_time": "2022-08-31T13:43:42.448184",
     "exception": false,
     "start_time": "2022-08-31T13:43:42.409579",
     "status": "completed"
    },
    "tags": []
   },
   "outputs": [
    {
     "name": "stdout",
     "output_type": "stream",
     "text": [
      "/kaggle/input/spooky-authors-csv/sample_submission.csv\n",
      "/kaggle/input/spooky-authors-csv/train.csv\n",
      "/kaggle/input/spooky-authors-csv/test.csv\n"
     ]
    }
   ],
   "source": [
    "# This Python 3 environment comes with many helpful analytics libraries installed\n",
    "# It is defined by the kaggle/python Docker image: https://github.com/kaggle/docker-python\n",
    "# For example, here's several helpful packages to load\n",
    "\n",
    "import numpy as np # linear algebra\n",
    "import pandas as pd # data processing, CSV file I/O (e.g. pd.read_csv)\n",
    "\n",
    "# Input data files are available in the read-only \"../input/\" directory\n",
    "# For example, running this (by clicking run or pressing Shift+Enter) will list all files under the input directory\n",
    "\n",
    "import os\n",
    "for dirname, _, filenames in os.walk('/kaggle/input'):\n",
    "    for filename in filenames:\n",
    "        print(os.path.join(dirname, filename))\n",
    "\n",
    "# You can write up to 20GB to the current directory (/kaggle/working/) that gets preserved as output when you create a version using \"Save & Run All\" \n",
    "# You can also write temporary files to /kaggle/temp/, but they won't be saved outside of the current session"
   ]
  },
  {
   "cell_type": "code",
   "execution_count": 2,
   "id": "6d8029b6",
   "metadata": {
    "execution": {
     "iopub.execute_input": "2022-08-31T13:43:42.477976Z",
     "iopub.status.busy": "2022-08-31T13:43:42.477583Z",
     "iopub.status.idle": "2022-08-31T13:43:51.475187Z",
     "shell.execute_reply": "2022-08-31T13:43:51.473837Z"
    },
    "papermill": {
     "duration": 9.015201,
     "end_time": "2022-08-31T13:43:51.477725",
     "exception": false,
     "start_time": "2022-08-31T13:43:42.462524",
     "status": "completed"
    },
    "tags": []
   },
   "outputs": [],
   "source": [
    "import pandas as pd\n",
    "import numpy as np\n",
    "\n",
    "#tqdm for progress bars\n",
    "from tqdm import tqdm\n",
    "\n",
    "import xgboost as xgb\n",
    "from sklearn.svm import SVC\n",
    "from sklearn import preprocessing, decomposition, model_selection,metrics,pipeline\n",
    "from sklearn.model_selection import GridSearchCV\n",
    "from sklearn.feature_extraction.text import TfidfVectorizer, CountVectorizer\n",
    "from sklearn.decomposition import TruncatedSVD\n",
    "from sklearn.model_selection import train_test_split\n",
    "from sklearn.naive_bayes import MultinomialNB\n",
    "\n",
    "#keras/TF library\n",
    "from keras.models import Sequential\n",
    "from keras.layers.recurrent import LSTM,GRU,SimpleRNN\n",
    "from keras.layers.core import Dense, Activation, Dropout\n",
    "from tensorflow.keras.layers import BatchNormalization\n",
    "from keras.utils import np_utils\n",
    "from keras.layers import GlobalMaxPooling1D,Conv1D,MaxPooling1D,Flatten,Bidirectional,SpatialDropout1D,Embedding\n",
    "from keras.preprocessing import sequence, text\n",
    "from keras.callbacks import EarlyStopping\n",
    "\n",
    "#nltk library\n",
    "from nltk import word_tokenize\n",
    "from nltk.corpus import stopwords\n",
    "\n",
    "#ignore the warnings\n",
    "import warnings\n",
    "warnings.filterwarnings('ignore')"
   ]
  },
  {
   "cell_type": "code",
   "execution_count": 3,
   "id": "b9803779",
   "metadata": {
    "execution": {
     "iopub.execute_input": "2022-08-31T13:43:51.507323Z",
     "iopub.status.busy": "2022-08-31T13:43:51.506567Z",
     "iopub.status.idle": "2022-08-31T13:43:51.703320Z",
     "shell.execute_reply": "2022-08-31T13:43:51.702164Z"
    },
    "papermill": {
     "duration": 0.214453,
     "end_time": "2022-08-31T13:43:51.705862",
     "exception": false,
     "start_time": "2022-08-31T13:43:51.491409",
     "status": "completed"
    },
    "tags": []
   },
   "outputs": [],
   "source": [
    "train  = pd.read_csv(\"../input/spooky-authors-csv/train.csv\")\n",
    "test   = pd.read_csv(\"../input/spooky-authors-csv/test.csv\")\n",
    "sample = pd.read_csv(\"../input/spooky-authors-csv/sample_submission.csv\")"
   ]
  },
  {
   "cell_type": "code",
   "execution_count": 4,
   "id": "17034594",
   "metadata": {
    "execution": {
     "iopub.execute_input": "2022-08-31T13:43:51.735257Z",
     "iopub.status.busy": "2022-08-31T13:43:51.734819Z",
     "iopub.status.idle": "2022-08-31T13:43:51.739489Z",
     "shell.execute_reply": "2022-08-31T13:43:51.738761Z"
    },
    "papermill": {
     "duration": 0.022733,
     "end_time": "2022-08-31T13:43:51.742571",
     "exception": false,
     "start_time": "2022-08-31T13:43:51.719838",
     "status": "completed"
    },
    "tags": []
   },
   "outputs": [
    {
     "name": "stdout",
     "output_type": "stream",
     "text": [
      "shape of training data: (19579, 3)\n",
      "shape of testing data: (8392, 2)\n"
     ]
    }
   ],
   "source": [
    "print(\"shape of training data:\", train.shape)\n",
    "print(\"shape of testing data:\", test.shape)"
   ]
  },
  {
   "cell_type": "code",
   "execution_count": 5,
   "id": "d4c5dd90",
   "metadata": {
    "execution": {
     "iopub.execute_input": "2022-08-31T13:43:51.774577Z",
     "iopub.status.busy": "2022-08-31T13:43:51.773903Z",
     "iopub.status.idle": "2022-08-31T13:43:51.797658Z",
     "shell.execute_reply": "2022-08-31T13:43:51.796149Z"
    },
    "papermill": {
     "duration": 0.041965,
     "end_time": "2022-08-31T13:43:51.800228",
     "exception": false,
     "start_time": "2022-08-31T13:43:51.758263",
     "status": "completed"
    },
    "tags": []
   },
   "outputs": [
    {
     "data": {
      "text/html": [
       "<div>\n",
       "<style scoped>\n",
       "    .dataframe tbody tr th:only-of-type {\n",
       "        vertical-align: middle;\n",
       "    }\n",
       "\n",
       "    .dataframe tbody tr th {\n",
       "        vertical-align: top;\n",
       "    }\n",
       "\n",
       "    .dataframe thead th {\n",
       "        text-align: right;\n",
       "    }\n",
       "</style>\n",
       "<table border=\"1\" class=\"dataframe\">\n",
       "  <thead>\n",
       "    <tr style=\"text-align: right;\">\n",
       "      <th></th>\n",
       "      <th>id</th>\n",
       "      <th>text</th>\n",
       "      <th>author</th>\n",
       "    </tr>\n",
       "  </thead>\n",
       "  <tbody>\n",
       "    <tr>\n",
       "      <th>0</th>\n",
       "      <td>id26305</td>\n",
       "      <td>This process, however, afforded me no means of...</td>\n",
       "      <td>EAP</td>\n",
       "    </tr>\n",
       "    <tr>\n",
       "      <th>1</th>\n",
       "      <td>id17569</td>\n",
       "      <td>It never once occurred to me that the fumbling...</td>\n",
       "      <td>HPL</td>\n",
       "    </tr>\n",
       "    <tr>\n",
       "      <th>2</th>\n",
       "      <td>id11008</td>\n",
       "      <td>In his left hand was a gold snuff box, from wh...</td>\n",
       "      <td>EAP</td>\n",
       "    </tr>\n",
       "    <tr>\n",
       "      <th>3</th>\n",
       "      <td>id27763</td>\n",
       "      <td>How lovely is spring As we looked from Windsor...</td>\n",
       "      <td>MWS</td>\n",
       "    </tr>\n",
       "    <tr>\n",
       "      <th>4</th>\n",
       "      <td>id12958</td>\n",
       "      <td>Finding nothing else, not even gold, the Super...</td>\n",
       "      <td>HPL</td>\n",
       "    </tr>\n",
       "  </tbody>\n",
       "</table>\n",
       "</div>"
      ],
      "text/plain": [
       "        id                                               text author\n",
       "0  id26305  This process, however, afforded me no means of...    EAP\n",
       "1  id17569  It never once occurred to me that the fumbling...    HPL\n",
       "2  id11008  In his left hand was a gold snuff box, from wh...    EAP\n",
       "3  id27763  How lovely is spring As we looked from Windsor...    MWS\n",
       "4  id12958  Finding nothing else, not even gold, the Super...    HPL"
      ]
     },
     "execution_count": 5,
     "metadata": {},
     "output_type": "execute_result"
    }
   ],
   "source": [
    "train.head()"
   ]
  },
  {
   "cell_type": "code",
   "execution_count": 6,
   "id": "9e0e946e",
   "metadata": {
    "execution": {
     "iopub.execute_input": "2022-08-31T13:43:51.830850Z",
     "iopub.status.busy": "2022-08-31T13:43:51.830438Z",
     "iopub.status.idle": "2022-08-31T13:43:51.840446Z",
     "shell.execute_reply": "2022-08-31T13:43:51.839388Z"
    },
    "papermill": {
     "duration": 0.027149,
     "end_time": "2022-08-31T13:43:51.842552",
     "exception": false,
     "start_time": "2022-08-31T13:43:51.815403",
     "status": "completed"
    },
    "tags": []
   },
   "outputs": [
    {
     "data": {
      "text/html": [
       "<div>\n",
       "<style scoped>\n",
       "    .dataframe tbody tr th:only-of-type {\n",
       "        vertical-align: middle;\n",
       "    }\n",
       "\n",
       "    .dataframe tbody tr th {\n",
       "        vertical-align: top;\n",
       "    }\n",
       "\n",
       "    .dataframe thead th {\n",
       "        text-align: right;\n",
       "    }\n",
       "</style>\n",
       "<table border=\"1\" class=\"dataframe\">\n",
       "  <thead>\n",
       "    <tr style=\"text-align: right;\">\n",
       "      <th></th>\n",
       "      <th>id</th>\n",
       "      <th>text</th>\n",
       "    </tr>\n",
       "  </thead>\n",
       "  <tbody>\n",
       "    <tr>\n",
       "      <th>0</th>\n",
       "      <td>id02310</td>\n",
       "      <td>Still, as I urged our leaving Ireland with suc...</td>\n",
       "    </tr>\n",
       "    <tr>\n",
       "      <th>1</th>\n",
       "      <td>id24541</td>\n",
       "      <td>If a fire wanted fanning, it could readily be ...</td>\n",
       "    </tr>\n",
       "    <tr>\n",
       "      <th>2</th>\n",
       "      <td>id00134</td>\n",
       "      <td>And when they had broken down the frail door t...</td>\n",
       "    </tr>\n",
       "    <tr>\n",
       "      <th>3</th>\n",
       "      <td>id27757</td>\n",
       "      <td>While I was thinking how I should possibly man...</td>\n",
       "    </tr>\n",
       "    <tr>\n",
       "      <th>4</th>\n",
       "      <td>id04081</td>\n",
       "      <td>I am not sure to what limit his knowledge may ...</td>\n",
       "    </tr>\n",
       "  </tbody>\n",
       "</table>\n",
       "</div>"
      ],
      "text/plain": [
       "        id                                               text\n",
       "0  id02310  Still, as I urged our leaving Ireland with suc...\n",
       "1  id24541  If a fire wanted fanning, it could readily be ...\n",
       "2  id00134  And when they had broken down the frail door t...\n",
       "3  id27757  While I was thinking how I should possibly man...\n",
       "4  id04081  I am not sure to what limit his knowledge may ..."
      ]
     },
     "execution_count": 6,
     "metadata": {},
     "output_type": "execute_result"
    }
   ],
   "source": [
    "test.head()"
   ]
  },
  {
   "cell_type": "code",
   "execution_count": 7,
   "id": "6a11d066",
   "metadata": {
    "execution": {
     "iopub.execute_input": "2022-08-31T13:43:51.873366Z",
     "iopub.status.busy": "2022-08-31T13:43:51.872479Z",
     "iopub.status.idle": "2022-08-31T13:43:51.884654Z",
     "shell.execute_reply": "2022-08-31T13:43:51.883570Z"
    },
    "papermill": {
     "duration": 0.029837,
     "end_time": "2022-08-31T13:43:51.887070",
     "exception": false,
     "start_time": "2022-08-31T13:43:51.857233",
     "status": "completed"
    },
    "tags": []
   },
   "outputs": [
    {
     "data": {
      "text/html": [
       "<div>\n",
       "<style scoped>\n",
       "    .dataframe tbody tr th:only-of-type {\n",
       "        vertical-align: middle;\n",
       "    }\n",
       "\n",
       "    .dataframe tbody tr th {\n",
       "        vertical-align: top;\n",
       "    }\n",
       "\n",
       "    .dataframe thead th {\n",
       "        text-align: right;\n",
       "    }\n",
       "</style>\n",
       "<table border=\"1\" class=\"dataframe\">\n",
       "  <thead>\n",
       "    <tr style=\"text-align: right;\">\n",
       "      <th></th>\n",
       "      <th>id</th>\n",
       "      <th>EAP</th>\n",
       "      <th>HPL</th>\n",
       "      <th>MWS</th>\n",
       "    </tr>\n",
       "  </thead>\n",
       "  <tbody>\n",
       "    <tr>\n",
       "      <th>0</th>\n",
       "      <td>id02310</td>\n",
       "      <td>0.403494</td>\n",
       "      <td>0.287808</td>\n",
       "      <td>0.308698</td>\n",
       "    </tr>\n",
       "    <tr>\n",
       "      <th>1</th>\n",
       "      <td>id24541</td>\n",
       "      <td>0.403494</td>\n",
       "      <td>0.287808</td>\n",
       "      <td>0.308698</td>\n",
       "    </tr>\n",
       "    <tr>\n",
       "      <th>2</th>\n",
       "      <td>id00134</td>\n",
       "      <td>0.403494</td>\n",
       "      <td>0.287808</td>\n",
       "      <td>0.308698</td>\n",
       "    </tr>\n",
       "    <tr>\n",
       "      <th>3</th>\n",
       "      <td>id27757</td>\n",
       "      <td>0.403494</td>\n",
       "      <td>0.287808</td>\n",
       "      <td>0.308698</td>\n",
       "    </tr>\n",
       "    <tr>\n",
       "      <th>4</th>\n",
       "      <td>id04081</td>\n",
       "      <td>0.403494</td>\n",
       "      <td>0.287808</td>\n",
       "      <td>0.308698</td>\n",
       "    </tr>\n",
       "  </tbody>\n",
       "</table>\n",
       "</div>"
      ],
      "text/plain": [
       "        id       EAP       HPL       MWS\n",
       "0  id02310  0.403494  0.287808  0.308698\n",
       "1  id24541  0.403494  0.287808  0.308698\n",
       "2  id00134  0.403494  0.287808  0.308698\n",
       "3  id27757  0.403494  0.287808  0.308698\n",
       "4  id04081  0.403494  0.287808  0.308698"
      ]
     },
     "execution_count": 7,
     "metadata": {},
     "output_type": "execute_result"
    }
   ],
   "source": [
    "sample.head()"
   ]
  },
  {
   "cell_type": "markdown",
   "id": "f427bd8d",
   "metadata": {
    "papermill": {
     "duration": 0.013698,
     "end_time": "2022-08-31T13:43:51.915087",
     "exception": false,
     "start_time": "2022-08-31T13:43:51.901389",
     "status": "completed"
    },
    "tags": []
   },
   "source": [
    "Note: There are three classes (authors). This is text classification problem into three classes. Kaggle mentions that the submissions are evaluated using multi-class logarithmic loss. Therefore, for each id, we need to predict the probability for each authors. "
   ]
  },
  {
   "cell_type": "markdown",
   "id": "9e0dbb55",
   "metadata": {
    "papermill": {
     "duration": 0.013667,
     "end_time": "2022-08-31T13:43:51.942968",
     "exception": false,
     "start_time": "2022-08-31T13:43:51.929301",
     "status": "completed"
    },
    "tags": []
   },
   "source": [
    "labelencode the author column using LabelEncoder from scikit-learn"
   ]
  },
  {
   "cell_type": "code",
   "execution_count": 8,
   "id": "1c8dc4bc",
   "metadata": {
    "execution": {
     "iopub.execute_input": "2022-08-31T13:43:51.974404Z",
     "iopub.status.busy": "2022-08-31T13:43:51.973146Z",
     "iopub.status.idle": "2022-08-31T13:43:51.987994Z",
     "shell.execute_reply": "2022-08-31T13:43:51.987208Z"
    },
    "papermill": {
     "duration": 0.033701,
     "end_time": "2022-08-31T13:43:51.990971",
     "exception": false,
     "start_time": "2022-08-31T13:43:51.957270",
     "status": "completed"
    },
    "tags": []
   },
   "outputs": [
    {
     "name": "stdout",
     "output_type": "stream",
     "text": [
      "[0 1 0 2 1]\n"
     ]
    }
   ],
   "source": [
    "encoder = preprocessing.LabelEncoder()\n",
    "y = encoder.fit_transform(train[\"author\"].values)\n",
    "print(y[0:5])"
   ]
  },
  {
   "cell_type": "markdown",
   "id": "cd4b0667",
   "metadata": {
    "papermill": {
     "duration": 0.013836,
     "end_time": "2022-08-31T13:43:52.019941",
     "exception": false,
     "start_time": "2022-08-31T13:43:52.006105",
     "status": "completed"
    },
    "tags": []
   },
   "source": [
    "train test split of the data using train_test_split function of scikit which has parameter test_size which decides fraction of the values to use as test data"
   ]
  },
  {
   "cell_type": "code",
   "execution_count": 9,
   "id": "4cd99d98",
   "metadata": {
    "execution": {
     "iopub.execute_input": "2022-08-31T13:43:52.051501Z",
     "iopub.status.busy": "2022-08-31T13:43:52.050756Z",
     "iopub.status.idle": "2022-08-31T13:43:52.058674Z",
     "shell.execute_reply": "2022-08-31T13:43:52.057846Z"
    },
    "papermill": {
     "duration": 0.025971,
     "end_time": "2022-08-31T13:43:52.060759",
     "exception": false,
     "start_time": "2022-08-31T13:43:52.034788",
     "status": "completed"
    },
    "tags": []
   },
   "outputs": [],
   "source": [
    "# we will use 10% of data for testing\n",
    "X_train, X_test, y_train, y_test = train_test_split(train.text.values,y,random_state=42,\n",
    "                                                    test_size=0.1,shuffle=True)"
   ]
  },
  {
   "cell_type": "code",
   "execution_count": 10,
   "id": "91cb4ec9",
   "metadata": {
    "execution": {
     "iopub.execute_input": "2022-08-31T13:43:52.092815Z",
     "iopub.status.busy": "2022-08-31T13:43:52.092151Z",
     "iopub.status.idle": "2022-08-31T13:43:54.515670Z",
     "shell.execute_reply": "2022-08-31T13:43:54.514563Z"
    },
    "papermill": {
     "duration": 2.443437,
     "end_time": "2022-08-31T13:43:54.519020",
     "exception": false,
     "start_time": "2022-08-31T13:43:52.075583",
     "status": "completed"
    },
    "tags": []
   },
   "outputs": [],
   "source": [
    "# we can also pass countvectorizer parameters in TfidVectorizer\n",
    "tfv = TfidfVectorizer(min_df=3,max_features=None,strip_accents='unicode',analyzer='word',token_pattern=r'\\w{1,}',\n",
    "                      ngram_range=(1,3),use_idf=1,smooth_idf=1,stop_words='english')\n",
    "\n",
    "# max_features confines maximum number of words \n",
    "\n",
    "tfv.fit(list(X_train) + list(X_test))\n",
    "X_train_tfv = tfv.transform(X_train)\n",
    "X_test_tfv = tfv.transform(X_test)"
   ]
  },
  {
   "cell_type": "code",
   "execution_count": 11,
   "id": "ecca7e86",
   "metadata": {
    "execution": {
     "iopub.execute_input": "2022-08-31T13:43:54.549490Z",
     "iopub.status.busy": "2022-08-31T13:43:54.549104Z",
     "iopub.status.idle": "2022-08-31T13:43:54.557807Z",
     "shell.execute_reply": "2022-08-31T13:43:54.555913Z"
    },
    "papermill": {
     "duration": 0.027281,
     "end_time": "2022-08-31T13:43:54.561096",
     "exception": false,
     "start_time": "2022-08-31T13:43:54.533815",
     "status": "completed"
    },
    "tags": []
   },
   "outputs": [
    {
     "name": "stdout",
     "output_type": "stream",
     "text": [
      "  (0, 14761)\t0.3181283797747183\n",
      "  (0, 13357)\t0.4184575452230181\n",
      "  (0, 12287)\t0.43064224755100244\n",
      "  (0, 7105)\t0.42301057881313125\n",
      "  (0, 6688)\t0.44635106099095123\n",
      "  (0, 4767)\t0.40008455608345017\n",
      "  (1, 14887)\t0.39153056520357\n",
      "  (1, 12875)\t0.3449083818495815\n",
      "  (1, 12809)\t0.3084077740731038\n",
      "  (1, 12324)\t0.3554126762527559\n",
      "  (1, 9703)\t0.27395600238767365\n",
      "  (1, 6671)\t0.3410370927625761\n",
      "  (1, 4688)\t0.26215870355428317\n",
      "  (1, 4606)\t0.3554126762527559\n",
      "  (1, 4106)\t0.34627294568997125\n",
      "  (2, 11244)\t0.2572905992436592\n",
      "  (2, 11046)\t0.3148477991542896\n",
      "  (2, 10869)\t0.2910239963220062\n",
      "  (2, 9873)\t0.34888437299479774\n",
      "  (2, 9850)\t0.25638784821196636\n",
      "  (2, 8179)\t0.28700357069998056\n",
      "  (2, 6390)\t0.3373279740477724\n",
      "  (2, 5009)\t0.34888437299479774\n",
      "  (2, 4520)\t0.38146003200936524\n",
      "  (2, 2367)\t0.3148477991542896\n",
      "  :\t:\n",
      "  (17618, 14988)\t0.45135219095523216\n",
      "  (17618, 10686)\t0.37121890168782445\n",
      "  (17618, 8099)\t0.3324569127847727\n",
      "  (17618, 7961)\t0.37121890168782445\n",
      "  (17618, 6016)\t0.48027623090755894\n",
      "  (17618, 2609)\t0.42365244829474213\n",
      "  (17619, 11725)\t0.3480830775501203\n",
      "  (17619, 3335)\t0.4844412298401281\n",
      "  (17619, 2474)\t0.3926052726973929\n",
      "  (17619, 2421)\t0.3926052726973929\n",
      "  (17619, 1400)\t0.4482290683611477\n",
      "  (17619, 753)\t0.36737959650847557\n",
      "  (17620, 11640)\t0.2554392875845262\n",
      "  (17620, 11255)\t0.28567348865795783\n",
      "  (17620, 10508)\t0.24305778635314024\n",
      "  (17620, 10205)\t0.2924301844186324\n",
      "  (17620, 9366)\t0.2924301844186324\n",
      "  (17620, 5403)\t0.26909152699470257\n",
      "  (17620, 3891)\t0.28567348865795783\n",
      "  (17620, 3890)\t0.28004868318724635\n",
      "  (17620, 2100)\t0.21971912892921044\n",
      "  (17620, 1003)\t0.28567348865795783\n",
      "  (17620, 1002)\t0.28567348865795783\n",
      "  (17620, 1001)\t0.28567348865795783\n",
      "  (17620, 50)\t0.31222129371727053\n"
     ]
    }
   ],
   "source": [
    "print(X_train_tfv)"
   ]
  },
  {
   "cell_type": "code",
   "execution_count": 12,
   "id": "78b049d2",
   "metadata": {
    "execution": {
     "iopub.execute_input": "2022-08-31T13:43:54.594385Z",
     "iopub.status.busy": "2022-08-31T13:43:54.593829Z",
     "iopub.status.idle": "2022-08-31T13:43:54.601353Z",
     "shell.execute_reply": "2022-08-31T13:43:54.600064Z"
    },
    "papermill": {
     "duration": 0.026822,
     "end_time": "2022-08-31T13:43:54.604492",
     "exception": false,
     "start_time": "2022-08-31T13:43:54.577670",
     "status": "completed"
    },
    "tags": []
   },
   "outputs": [],
   "source": [
    "def multiclass_logloss(actual,predicted,eps=1e-15):\n",
    "    \n",
    "    #converting the 'actual' values to binary values if it's \n",
    "    #not binary values\n",
    "    \n",
    "    if len(actual.shape) == 1:\n",
    "        actual2 = np.zeros((actual.shape[0],predicted.shape[1]))\n",
    "        \n",
    "        for i, val in enumerate(actual):\n",
    "            actual2[i,val] = 1\n",
    "        actual = actual2\n",
    "    \n",
    "    #clip function truncates the number between\n",
    "    #a max number and min number\n",
    "    clip = np.clip(predicted,eps,1-eps)\n",
    "    rows = actual.shape[0]\n",
    "    vsota = np.sum(actual * np.log(clip))\n",
    "    return -1.0/ rows * vsota "
   ]
  },
  {
   "cell_type": "code",
   "execution_count": 13,
   "id": "8a341f5e",
   "metadata": {
    "execution": {
     "iopub.execute_input": "2022-08-31T13:43:54.637584Z",
     "iopub.status.busy": "2022-08-31T13:43:54.636960Z",
     "iopub.status.idle": "2022-08-31T13:43:57.869204Z",
     "shell.execute_reply": "2022-08-31T13:43:57.868122Z"
    },
    "papermill": {
     "duration": 3.253428,
     "end_time": "2022-08-31T13:43:57.873352",
     "exception": false,
     "start_time": "2022-08-31T13:43:54.619924",
     "status": "completed"
    },
    "tags": []
   },
   "outputs": [
    {
     "name": "stdout",
     "output_type": "stream",
     "text": [
      "logloss: 0.583\n"
     ]
    }
   ],
   "source": [
    "# Fitting Logistic Regression on TFIDF\n",
    "from sklearn.linear_model import LogisticRegression\n",
    "clf = LogisticRegression(C=1.0)\n",
    "clf.fit(X_train_tfv,y_train)\n",
    "prediction = clf.predict_proba(X_test_tfv)\n",
    "\n",
    "print(\"logloss: %0.3f\" % multiclass_logloss(y_test,prediction))"
   ]
  },
  {
   "cell_type": "code",
   "execution_count": 14,
   "id": "3d107567",
   "metadata": {
    "execution": {
     "iopub.execute_input": "2022-08-31T13:43:57.963869Z",
     "iopub.status.busy": "2022-08-31T13:43:57.962641Z",
     "iopub.status.idle": "2022-08-31T13:44:01.453249Z",
     "shell.execute_reply": "2022-08-31T13:44:01.451749Z"
    },
    "papermill": {
     "duration": 3.542209,
     "end_time": "2022-08-31T13:44:01.456546",
     "exception": false,
     "start_time": "2022-08-31T13:43:57.914337",
     "status": "completed"
    },
    "tags": []
   },
   "outputs": [],
   "source": [
    "ctv = CountVectorizer(analyzer='word',token_pattern=r'\\w{1,}',\n",
    "            ngram_range=(1, 3), stop_words = 'english')\n",
    "\n",
    "ctv.fit(list(X_train)+list(X_test))\n",
    "X_train_ctv = ctv.transform(X_train)\n",
    "X_test_ctv = ctv.transform(X_test)"
   ]
  },
  {
   "cell_type": "code",
   "execution_count": 15,
   "id": "d6107323",
   "metadata": {
    "execution": {
     "iopub.execute_input": "2022-08-31T13:44:01.488453Z",
     "iopub.status.busy": "2022-08-31T13:44:01.487772Z",
     "iopub.status.idle": "2022-08-31T13:44:36.954436Z",
     "shell.execute_reply": "2022-08-31T13:44:36.953319Z"
    },
    "papermill": {
     "duration": 35.503465,
     "end_time": "2022-08-31T13:44:36.975198",
     "exception": false,
     "start_time": "2022-08-31T13:44:01.471733",
     "status": "completed"
    },
    "tags": []
   },
   "outputs": [
    {
     "name": "stdout",
     "output_type": "stream",
     "text": [
      "logloss: 0.537\n"
     ]
    }
   ],
   "source": [
    "clf = LogisticRegression(C=1.0)\n",
    "clf.fit(X_train_ctv,y_train)\n",
    "prediction = clf.predict_proba(X_test_ctv)\n",
    "\n",
    "print(\"logloss: %0.3f\" % multiclass_logloss(y_test,prediction))"
   ]
  },
  {
   "cell_type": "markdown",
   "id": "93013fd7",
   "metadata": {
    "papermill": {
     "duration": 0.014439,
     "end_time": "2022-08-31T13:44:37.004506",
     "exception": false,
     "start_time": "2022-08-31T13:44:36.990067",
     "status": "completed"
    },
    "tags": []
   },
   "source": [
    "# Navie Bayes"
   ]
  },
  {
   "cell_type": "code",
   "execution_count": 16,
   "id": "2e24de70",
   "metadata": {
    "execution": {
     "iopub.execute_input": "2022-08-31T13:44:37.036101Z",
     "iopub.status.busy": "2022-08-31T13:44:37.035698Z",
     "iopub.status.idle": "2022-08-31T13:44:37.052333Z",
     "shell.execute_reply": "2022-08-31T13:44:37.051105Z"
    },
    "papermill": {
     "duration": 0.034802,
     "end_time": "2022-08-31T13:44:37.054880",
     "exception": false,
     "start_time": "2022-08-31T13:44:37.020078",
     "status": "completed"
    },
    "tags": []
   },
   "outputs": [
    {
     "name": "stdout",
     "output_type": "stream",
     "text": [
      "logloss: 0.582\n"
     ]
    }
   ],
   "source": [
    "# tfidf\n",
    "clf = MultinomialNB()\n",
    "clf.fit(X_train_tfv,y_train)\n",
    "\n",
    "prediction = clf.predict_proba(X_test_tfv)\n",
    "\n",
    "print(\"logloss: %0.3f\" % multiclass_logloss(y_test,prediction))"
   ]
  },
  {
   "cell_type": "code",
   "execution_count": 17,
   "id": "02e81845",
   "metadata": {
    "execution": {
     "iopub.execute_input": "2022-08-31T13:44:37.087420Z",
     "iopub.status.busy": "2022-08-31T13:44:37.086968Z",
     "iopub.status.idle": "2022-08-31T13:44:37.135855Z",
     "shell.execute_reply": "2022-08-31T13:44:37.134576Z"
    },
    "papermill": {
     "duration": 0.068887,
     "end_time": "2022-08-31T13:44:37.139268",
     "exception": false,
     "start_time": "2022-08-31T13:44:37.070381",
     "status": "completed"
    },
    "tags": []
   },
   "outputs": [
    {
     "name": "stdout",
     "output_type": "stream",
     "text": [
      "logloss: 0.502\n"
     ]
    }
   ],
   "source": [
    "# counts\n",
    "clf = MultinomialNB()\n",
    "clf.fit(X_train_ctv,y_train)\n",
    "\n",
    "prediction = clf.predict_proba(X_test_ctv)\n",
    "\n",
    "print(\"logloss: %0.3f\" % multiclass_logloss(y_test,prediction))"
   ]
  },
  {
   "cell_type": "markdown",
   "id": "1c2566e8",
   "metadata": {
    "papermill": {
     "duration": 0.014432,
     "end_time": "2022-08-31T13:44:37.169348",
     "exception": false,
     "start_time": "2022-08-31T13:44:37.154916",
     "status": "completed"
    },
    "tags": []
   },
   "source": [
    "# SVM"
   ]
  },
  {
   "cell_type": "markdown",
   "id": "f6c7065d",
   "metadata": {
    "papermill": {
     "duration": 0.01413,
     "end_time": "2022-08-31T13:44:37.198085",
     "exception": false,
     "start_time": "2022-08-31T13:44:37.183955",
     "status": "completed"
    },
    "tags": []
   },
   "source": [
    "SVM is very slow algorithm so it takes lot of time to fit so we will\n",
    "use Singular Value Decomposition before applying SVM\n",
    "and we will also standardize the data."
   ]
  },
  {
   "cell_type": "code",
   "execution_count": 18,
   "id": "152619b9",
   "metadata": {
    "execution": {
     "iopub.execute_input": "2022-08-31T13:44:37.229082Z",
     "iopub.status.busy": "2022-08-31T13:44:37.228180Z",
     "iopub.status.idle": "2022-08-31T13:44:39.702435Z",
     "shell.execute_reply": "2022-08-31T13:44:39.701400Z"
    },
    "papermill": {
     "duration": 2.492599,
     "end_time": "2022-08-31T13:44:39.705063",
     "exception": false,
     "start_time": "2022-08-31T13:44:37.212464",
     "status": "completed"
    },
    "tags": []
   },
   "outputs": [],
   "source": [
    "svd = decomposition.TruncatedSVD(n_components=120)\n",
    "svd.fit(X_train_tfv)\n",
    "X_train_svd = svd.transform(X_train_tfv)\n",
    "X_test_svd = svd.transform(X_test_tfv)\n",
    "\n",
    "scl = preprocessing.StandardScaler()\n",
    "scl.fit(X_train_svd)\n",
    "\n",
    "X_train_svd_scl = scl.transform(X_train_svd)\n",
    "X_test_svd_scl = scl.transform(X_test_svd)"
   ]
  },
  {
   "cell_type": "code",
   "execution_count": 19,
   "id": "5a35d8bc",
   "metadata": {
    "execution": {
     "iopub.execute_input": "2022-08-31T13:44:39.737215Z",
     "iopub.status.busy": "2022-08-31T13:44:39.736319Z",
     "iopub.status.idle": "2022-08-31T13:48:39.890407Z",
     "shell.execute_reply": "2022-08-31T13:48:39.889397Z"
    },
    "papermill": {
     "duration": 240.187432,
     "end_time": "2022-08-31T13:48:39.907360",
     "exception": false,
     "start_time": "2022-08-31T13:44:39.719928",
     "status": "completed"
    },
    "tags": []
   },
   "outputs": [
    {
     "name": "stdout",
     "output_type": "stream",
     "text": [
      "logloss: 0.712\n"
     ]
    }
   ],
   "source": [
    "svm = SVC(C=1.0,probability=True)\n",
    "\n",
    "svm.fit(X_train_svd_scl,y_train)\n",
    "prediction = svm.predict_proba(X_test_svd_scl)\n",
    "\n",
    "print(\"logloss: %0.3f\" % multiclass_logloss(y_test,prediction))"
   ]
  },
  {
   "cell_type": "markdown",
   "id": "18ecd13e",
   "metadata": {
    "papermill": {
     "duration": 0.014592,
     "end_time": "2022-08-31T13:48:39.936846",
     "exception": false,
     "start_time": "2022-08-31T13:48:39.922254",
     "status": "completed"
    },
    "tags": []
   },
   "source": [
    "# Xgboost"
   ]
  },
  {
   "cell_type": "code",
   "execution_count": 20,
   "id": "554714c5",
   "metadata": {
    "execution": {
     "iopub.execute_input": "2022-08-31T13:48:39.969623Z",
     "iopub.status.busy": "2022-08-31T13:48:39.968558Z",
     "iopub.status.idle": "2022-08-31T13:49:06.504463Z",
     "shell.execute_reply": "2022-08-31T13:49:06.503343Z"
    },
    "papermill": {
     "duration": 26.555001,
     "end_time": "2022-08-31T13:49:06.506802",
     "exception": false,
     "start_time": "2022-08-31T13:48:39.951801",
     "status": "completed"
    },
    "tags": []
   },
   "outputs": [
    {
     "name": "stdout",
     "output_type": "stream",
     "text": [
      "logloss: 0.778\n"
     ]
    }
   ],
   "source": [
    "# on TF-IDF\n",
    "clf = xgb.XGBClassifier(max_depth=7,n_estimators=200,colsample_bytree=0.8,subsample=0.8,nthread=10,learning_rate=0.1)\n",
    "\n",
    "clf.fit(X_train_tfv.tocsc(),y_train)\n",
    "prediction = clf.predict_proba(X_test_tfv.tocsc())\n",
    "\n",
    "print(\"logloss: %0.3f\" % multiclass_logloss(y_test,prediction))"
   ]
  },
  {
   "cell_type": "code",
   "execution_count": 21,
   "id": "9322896d",
   "metadata": {
    "execution": {
     "iopub.execute_input": "2022-08-31T13:49:06.539072Z",
     "iopub.status.busy": "2022-08-31T13:49:06.538205Z",
     "iopub.status.idle": "2022-08-31T13:51:09.818147Z",
     "shell.execute_reply": "2022-08-31T13:51:09.816810Z"
    },
    "papermill": {
     "duration": 123.31118,
     "end_time": "2022-08-31T13:51:09.832723",
     "exception": false,
     "start_time": "2022-08-31T13:49:06.521543",
     "status": "completed"
    },
    "tags": []
   },
   "outputs": [
    {
     "name": "stdout",
     "output_type": "stream",
     "text": [
      "logloss: 0.722\n"
     ]
    }
   ],
   "source": [
    "# on SVD\n",
    "clf = xgb.XGBClassifier(max_depth=7,n_estimators=200,colsample_bytree=0.8,subsample=0.8,nthread=10,learning_rate=0.1)\n",
    "\n",
    "clf.fit(X_train_svd,y_train)\n",
    "prediction = clf.predict_proba(X_test_svd)\n",
    "\n",
    "print(\"logloss: %0.3f\" % multiclass_logloss(y_test,prediction))"
   ]
  },
  {
   "cell_type": "markdown",
   "id": "aa1032c4",
   "metadata": {
    "papermill": {
     "duration": 0.014455,
     "end_time": "2022-08-31T13:51:09.861951",
     "exception": false,
     "start_time": "2022-08-31T13:51:09.847496",
     "status": "completed"
    },
    "tags": []
   },
   "source": [
    "# Hyperparameter Optimization"
   ]
  },
  {
   "cell_type": "code",
   "execution_count": 22,
   "id": "0dd3d5a8",
   "metadata": {
    "execution": {
     "iopub.execute_input": "2022-08-31T13:51:09.893495Z",
     "iopub.status.busy": "2022-08-31T13:51:09.893100Z",
     "iopub.status.idle": "2022-08-31T13:51:09.900324Z",
     "shell.execute_reply": "2022-08-31T13:51:09.899330Z"
    },
    "papermill": {
     "duration": 0.025587,
     "end_time": "2022-08-31T13:51:09.902555",
     "exception": false,
     "start_time": "2022-08-31T13:51:09.876968",
     "status": "completed"
    },
    "tags": []
   },
   "outputs": [],
   "source": [
    "mll_scorer = metrics.make_scorer(multiclass_logloss, greater_is_better=False,needs_proba=True)\n",
    "\n",
    "svd = decomposition.TruncatedSVD()\n",
    "scl = preprocessing.StandardScaler()\n",
    "lr_model = LogisticRegression()\n",
    "\n",
    "clf = pipeline.Pipeline([('svd',svd),\n",
    "                         ('scl',scl),\n",
    "                         ('lr',lr_model)])"
   ]
  },
  {
   "cell_type": "code",
   "execution_count": 23,
   "id": "39747e37",
   "metadata": {
    "execution": {
     "iopub.execute_input": "2022-08-31T13:51:09.934577Z",
     "iopub.status.busy": "2022-08-31T13:51:09.933576Z",
     "iopub.status.idle": "2022-08-31T13:51:09.939172Z",
     "shell.execute_reply": "2022-08-31T13:51:09.937995Z"
    },
    "papermill": {
     "duration": 0.024183,
     "end_time": "2022-08-31T13:51:09.941523",
     "exception": false,
     "start_time": "2022-08-31T13:51:09.917340",
     "status": "completed"
    },
    "tags": []
   },
   "outputs": [],
   "source": [
    "params_grid = {'svd__n_components':[120,180],\n",
    "               'lr__C':[0.1,1.0,10],\n",
    "               'lr__penalty':['l1','l2']}"
   ]
  },
  {
   "cell_type": "code",
   "execution_count": 24,
   "id": "6da90197",
   "metadata": {
    "execution": {
     "iopub.execute_input": "2022-08-31T13:51:09.973972Z",
     "iopub.status.busy": "2022-08-31T13:51:09.973559Z",
     "iopub.status.idle": "2022-08-31T13:51:32.558328Z",
     "shell.execute_reply": "2022-08-31T13:51:32.557025Z"
    },
    "papermill": {
     "duration": 22.60715,
     "end_time": "2022-08-31T13:51:32.564257",
     "exception": false,
     "start_time": "2022-08-31T13:51:09.957107",
     "status": "completed"
    },
    "tags": []
   },
   "outputs": [
    {
     "name": "stdout",
     "output_type": "stream",
     "text": [
      "Fitting 2 folds for each of 12 candidates, totalling 24 fits\n",
      "Best score: -0.736\n",
      "Best parameters set:\n",
      "\tlr__C: 0.1\n",
      "\tlr__penalty: 'l2'\n",
      "\tsvd__n_components: 180\n"
     ]
    }
   ],
   "source": [
    "model = GridSearchCV(estimator=clf,param_grid=params_grid,scoring=mll_scorer,\n",
    "                     verbose=10,n_jobs=-1,refit=True,cv=2)\n",
    "\n",
    "#fitting the model\n",
    "model.fit(X_train_tfv,y_train)\n",
    "\n",
    "print('Best score: %0.3f' % model.best_score_)\n",
    "print(\"Best parameters set:\")\n",
    "best_parameters = model.best_estimator_.get_params()\n",
    "for param_name in sorted(params_grid.keys()):\n",
    "    print(\"\\t%s: %r\" % (param_name, best_parameters[param_name]))"
   ]
  },
  {
   "cell_type": "code",
   "execution_count": 25,
   "id": "aceb127c",
   "metadata": {
    "execution": {
     "iopub.execute_input": "2022-08-31T13:51:32.616258Z",
     "iopub.status.busy": "2022-08-31T13:51:32.615679Z",
     "iopub.status.idle": "2022-08-31T13:51:32.919783Z",
     "shell.execute_reply": "2022-08-31T13:51:32.918243Z"
    },
    "papermill": {
     "duration": 0.332692,
     "end_time": "2022-08-31T13:51:32.922184",
     "exception": false,
     "start_time": "2022-08-31T13:51:32.589492",
     "status": "completed"
    },
    "tags": []
   },
   "outputs": [
    {
     "name": "stdout",
     "output_type": "stream",
     "text": [
      "Fitting 2 folds for each of 6 candidates, totalling 12 fits\n",
      "Best score: -0.491\n",
      "Best parameters set:\n",
      "\tnb__alpha: 0.1\n"
     ]
    }
   ],
   "source": [
    "# Grid search for NB\n",
    "nb = MultinomialNB()\n",
    "\n",
    "clf = pipeline.Pipeline([('nb',nb)])\n",
    "\n",
    "params_grid = {'nb__alpha':[0.001,0.01,0.1,1,10,100]}\n",
    "\n",
    "model  = GridSearchCV(estimator=clf,param_grid=params_grid,scoring=mll_scorer,verbose=10,n_jobs=-1,refit=True,cv=2)\n",
    "\n",
    "model.fit(X_train_tfv,y_train)\n",
    "\n",
    "print(\"Best score: %0.3f\" % model.best_score_)\n",
    "print(\"Best parameters set:\")\n",
    "best_parameters = model.best_estimator_.get_params()\n",
    "for param_name in sorted(params_grid.keys()):\n",
    "    print(\"\\t%s: %r\" % (param_name, best_parameters[param_name]))"
   ]
  },
  {
   "cell_type": "markdown",
   "id": "6913a632",
   "metadata": {
    "papermill": {
     "duration": 0.014564,
     "end_time": "2022-08-31T13:51:32.952417",
     "exception": false,
     "start_time": "2022-08-31T13:51:32.937853",
     "status": "completed"
    },
    "tags": []
   },
   "source": [
    "# Word2Vec"
   ]
  },
  {
   "cell_type": "code",
   "execution_count": 26,
   "id": "7c8292c4",
   "metadata": {
    "execution": {
     "iopub.execute_input": "2022-08-31T13:51:32.985089Z",
     "iopub.status.busy": "2022-08-31T13:51:32.984057Z",
     "iopub.status.idle": "2022-08-31T13:51:33.172885Z",
     "shell.execute_reply": "2022-08-31T13:51:33.171895Z"
    },
    "papermill": {
     "duration": 0.20755,
     "end_time": "2022-08-31T13:51:33.175376",
     "exception": false,
     "start_time": "2022-08-31T13:51:32.967826",
     "status": "completed"
    },
    "tags": []
   },
   "outputs": [],
   "source": [
    "#gensim library allow us to access pre trained embeddings\n",
    "from gensim.models.word2vec import Word2Vec\n",
    "import gensim.downloader as api"
   ]
  },
  {
   "cell_type": "code",
   "execution_count": 27,
   "id": "b49ea452",
   "metadata": {
    "execution": {
     "iopub.execute_input": "2022-08-31T13:51:33.207017Z",
     "iopub.status.busy": "2022-08-31T13:51:33.206558Z",
     "iopub.status.idle": "2022-08-31T13:52:21.464209Z",
     "shell.execute_reply": "2022-08-31T13:52:21.462858Z"
    },
    "papermill": {
     "duration": 48.277051,
     "end_time": "2022-08-31T13:52:21.467501",
     "exception": false,
     "start_time": "2022-08-31T13:51:33.190450",
     "status": "completed"
    },
    "tags": []
   },
   "outputs": [
    {
     "name": "stdout",
     "output_type": "stream",
     "text": [
      "[==================================================] 100.0% 104.8/104.8MB downloaded\n"
     ]
    }
   ],
   "source": [
    "#download the dataset and return it as object\n",
    "model_twitter_glove = api.load(\"glove-twitter-25\") #here 25 is dimenssion of the data"
   ]
  },
  {
   "cell_type": "code",
   "execution_count": 28,
   "id": "e46b853f",
   "metadata": {
    "execution": {
     "iopub.execute_input": "2022-08-31T13:52:23.343237Z",
     "iopub.status.busy": "2022-08-31T13:52:23.342798Z",
     "iopub.status.idle": "2022-08-31T13:52:25.760652Z",
     "shell.execute_reply": "2022-08-31T13:52:25.758829Z"
    },
    "papermill": {
     "duration": 3.344143,
     "end_time": "2022-08-31T13:52:25.763336",
     "exception": false,
     "start_time": "2022-08-31T13:52:22.419193",
     "status": "completed"
    },
    "tags": []
   },
   "outputs": [
    {
     "name": "stdout",
     "output_type": "stream",
     "text": [
      "Total words in embeddings 1193514\n"
     ]
    }
   ],
   "source": [
    "#we need to word, vec dictionary before fitting it to models\n",
    "embedding_index = {}\n",
    "\n",
    "all_words = list(model_twitter_glove.key_to_index.keys())\n",
    "#words in gensim model is stored as \"key\":vector object pair\n",
    "\n",
    "for word in all_words:\n",
    "    embedding_index[word] = model_twitter_glove.get_vector(word)\n",
    "\n",
    "print('Total words in embeddings %d' % len(embedding_index))"
   ]
  },
  {
   "cell_type": "code",
   "execution_count": 29,
   "id": "7a37d1a1",
   "metadata": {
    "execution": {
     "iopub.execute_input": "2022-08-31T13:52:27.508334Z",
     "iopub.status.busy": "2022-08-31T13:52:27.507907Z",
     "iopub.status.idle": "2022-08-31T13:52:27.527490Z",
     "shell.execute_reply": "2022-08-31T13:52:27.526450Z"
    },
    "papermill": {
     "duration": 0.93218,
     "end_time": "2022-08-31T13:52:27.529997",
     "exception": false,
     "start_time": "2022-08-31T13:52:26.597817",
     "status": "completed"
    },
    "tags": []
   },
   "outputs": [],
   "source": [
    "#getting stop words from nltk library\n",
    "stop_words = stopwords.words('english')\n",
    "\n",
    "def sen2vec(s):\n",
    "    # lowe the letters, tokenize them , remove stop_words, remove numbers\n",
    "    words = str(s).lower()\n",
    "    words = word_tokenize(s)\n",
    "    words = [w for w in words if w not in stop_words]\n",
    "    words = [w for w in words if w.isalpha()]\n",
    "    \n",
    "    M = []\n",
    "    for w in words:\n",
    "        #try because word might not present in index.\n",
    "        try:\n",
    "            M.append(embedding_index[w])\n",
    "        except:\n",
    "            continue\n",
    "    \n",
    "    M = np.array(M)\n",
    "    v = M.sum(axis=0)\n",
    "    \n",
    "    if type(v) != np.ndarray:\n",
    "        #25 because that is dimension of out word embedding\n",
    "        return np.zeros(25)\n",
    "    \n",
    "    return v/np.sqrt((v** 2).sum())"
   ]
  },
  {
   "cell_type": "code",
   "execution_count": 30,
   "id": "3c5f5e99",
   "metadata": {
    "execution": {
     "iopub.execute_input": "2022-08-31T13:52:29.286812Z",
     "iopub.status.busy": "2022-08-31T13:52:29.286398Z",
     "iopub.status.idle": "2022-08-31T13:52:36.294138Z",
     "shell.execute_reply": "2022-08-31T13:52:36.292970Z"
    },
    "papermill": {
     "duration": 7.914915,
     "end_time": "2022-08-31T13:52:36.296864",
     "exception": false,
     "start_time": "2022-08-31T13:52:28.381949",
     "status": "completed"
    },
    "tags": []
   },
   "outputs": [
    {
     "name": "stderr",
     "output_type": "stream",
     "text": [
      "100%|██████████| 17621/17621 [00:06<00:00, 2802.92it/s]\n",
      "100%|██████████| 1958/1958 [00:00<00:00, 2784.27it/s]\n"
     ]
    }
   ],
   "source": [
    "#converting every sentence to word embedding\n",
    "X_train_glove = [sen2vec(s) for s in tqdm(X_train)]\n",
    "X_test_glove = [sen2vec(s) for s in tqdm(X_test)]"
   ]
  },
  {
   "cell_type": "code",
   "execution_count": 31,
   "id": "5e61abaf",
   "metadata": {
    "execution": {
     "iopub.execute_input": "2022-08-31T13:52:38.065471Z",
     "iopub.status.busy": "2022-08-31T13:52:38.064929Z",
     "iopub.status.idle": "2022-08-31T13:52:38.081921Z",
     "shell.execute_reply": "2022-08-31T13:52:38.080776Z"
    },
    "papermill": {
     "duration": 0.926933,
     "end_time": "2022-08-31T13:52:38.084581",
     "exception": false,
     "start_time": "2022-08-31T13:52:37.157648",
     "status": "completed"
    },
    "tags": []
   },
   "outputs": [],
   "source": [
    "X_train_glove = np.array(X_train_glove)\n",
    "X_test_glove = np.array(X_test_glove)"
   ]
  },
  {
   "cell_type": "markdown",
   "id": "26fa5d8a",
   "metadata": {
    "papermill": {
     "duration": 0.866133,
     "end_time": "2022-08-31T13:52:39.881319",
     "exception": false,
     "start_time": "2022-08-31T13:52:39.015186",
     "status": "completed"
    },
    "tags": []
   },
   "source": [
    "# XGBoost on GloVe"
   ]
  },
  {
   "cell_type": "code",
   "execution_count": 32,
   "id": "1ee4bd00",
   "metadata": {
    "execution": {
     "iopub.execute_input": "2022-08-31T13:52:41.647653Z",
     "iopub.status.busy": "2022-08-31T13:52:41.646977Z",
     "iopub.status.idle": "2022-08-31T13:53:18.299954Z",
     "shell.execute_reply": "2022-08-31T13:53:18.298944Z"
    },
    "papermill": {
     "duration": 38.426142,
     "end_time": "2022-08-31T13:53:19.221637",
     "exception": false,
     "start_time": "2022-08-31T13:52:40.795495",
     "status": "completed"
    },
    "tags": []
   },
   "outputs": [
    {
     "name": "stdout",
     "output_type": "stream",
     "text": [
      "[13:52:41] WARNING: ../src/learner.cc:627: \n",
      "Parameters: { \"silent\" } might not be used.\n",
      "\n",
      "  This could be a false alarm, with some parameters getting used by language bindings but\n",
      "  then being mistakenly passed down to XGBoost core, or some parameter actually being used\n",
      "  but getting flagged wrongly here. Please open an issue if you find any such cases.\n",
      "\n",
      "\n",
      "logloss: 0.984 \n"
     ]
    }
   ],
   "source": [
    "clf = xgb.XGBClassifier(n_estimators=200,nthread=10,silent=False)\n",
    "clf.fit(X_train_glove, y_train)\n",
    "\n",
    "predictions = clf.predict_proba(X_test_glove)\n",
    "\n",
    "print (\"logloss: %0.3f \" % multiclass_logloss(y_test, predictions))"
   ]
  },
  {
   "cell_type": "markdown",
   "id": "ce560d42",
   "metadata": {
    "papermill": {
     "duration": 0.849175,
     "end_time": "2022-08-31T13:53:20.986196",
     "exception": false,
     "start_time": "2022-08-31T13:53:20.137021",
     "status": "completed"
    },
    "tags": []
   },
   "source": [
    "# Simple NN"
   ]
  },
  {
   "cell_type": "code",
   "execution_count": 33,
   "id": "6635e695",
   "metadata": {
    "execution": {
     "iopub.execute_input": "2022-08-31T13:53:22.763490Z",
     "iopub.status.busy": "2022-08-31T13:53:22.762801Z",
     "iopub.status.idle": "2022-08-31T13:53:22.776963Z",
     "shell.execute_reply": "2022-08-31T13:53:22.776038Z"
    },
    "papermill": {
     "duration": 0.86844,
     "end_time": "2022-08-31T13:53:22.779381",
     "exception": false,
     "start_time": "2022-08-31T13:53:21.910941",
     "status": "completed"
    },
    "tags": []
   },
   "outputs": [],
   "source": [
    "# Remember to scale the data before feeding to the NN\n",
    "scl = preprocessing.StandardScaler()\n",
    "\n",
    "X_train_glove_scl = scl.fit_transform(X_train_glove)\n",
    "X_test_glove_scl = scl.transform(X_test_glove)\n",
    "\n",
    "y_train_enc = np_utils.to_categorical(y_train)\n",
    "y_test_enc = np_utils.to_categorical(y_test)"
   ]
  },
  {
   "cell_type": "code",
   "execution_count": 34,
   "id": "81b8b652",
   "metadata": {
    "execution": {
     "iopub.execute_input": "2022-08-31T13:53:24.595548Z",
     "iopub.status.busy": "2022-08-31T13:53:24.595153Z",
     "iopub.status.idle": "2022-08-31T13:53:24.853306Z",
     "shell.execute_reply": "2022-08-31T13:53:24.851299Z"
    },
    "papermill": {
     "duration": 1.168665,
     "end_time": "2022-08-31T13:53:24.856310",
     "exception": false,
     "start_time": "2022-08-31T13:53:23.687645",
     "status": "completed"
    },
    "tags": []
   },
   "outputs": [
    {
     "name": "stderr",
     "output_type": "stream",
     "text": [
      "2022-08-31 13:53:24.685850: I tensorflow/core/common_runtime/process_util.cc:146] Creating new thread pool with default inter op setting: 2. Tune using inter_op_parallelism_threads for best performance.\n"
     ]
    }
   ],
   "source": [
    "model = Sequential()\n",
    "\n",
    "model.add(Dense(25,input_dim=25,activation='relu'))\n",
    "model.add(Dropout(0.2))\n",
    "model.add(BatchNormalization())\n",
    "\n",
    "model.add(Dense(25,input_dim=25,activation='relu'))\n",
    "model.add(Dropout(0.2))\n",
    "model.add(BatchNormalization())\n",
    "\n",
    "model.add(Dense(3))\n",
    "model.add(Activation('softmax'))\n",
    "\n",
    "model.compile(loss='categorical_crossentropy',optimizer='adam')"
   ]
  },
  {
   "cell_type": "code",
   "execution_count": 35,
   "id": "e27addbc",
   "metadata": {
    "execution": {
     "iopub.execute_input": "2022-08-31T13:53:26.590764Z",
     "iopub.status.busy": "2022-08-31T13:53:26.590254Z",
     "iopub.status.idle": "2022-08-31T13:53:32.726103Z",
     "shell.execute_reply": "2022-08-31T13:53:32.724631Z"
    },
    "papermill": {
     "duration": 7.039397,
     "end_time": "2022-08-31T13:53:32.728698",
     "exception": false,
     "start_time": "2022-08-31T13:53:25.689301",
     "status": "completed"
    },
    "tags": []
   },
   "outputs": [
    {
     "name": "stderr",
     "output_type": "stream",
     "text": [
      "2022-08-31 13:53:26.688031: I tensorflow/compiler/mlir/mlir_graph_optimization_pass.cc:185] None of the MLIR Optimization Passes are enabled (registered 2)\n"
     ]
    },
    {
     "name": "stdout",
     "output_type": "stream",
     "text": [
      "Epoch 1/5\n",
      "353/353 [==============================] - 2s 3ms/step - loss: 1.2179 - val_loss: 1.0028\n",
      "Epoch 2/5\n",
      "353/353 [==============================] - 1s 2ms/step - loss: 1.0474 - val_loss: 0.9739\n",
      "Epoch 3/5\n",
      "353/353 [==============================] - 1s 3ms/step - loss: 1.0081 - val_loss: 0.9576\n",
      "Epoch 4/5\n",
      "353/353 [==============================] - 1s 3ms/step - loss: 0.9910 - val_loss: 0.9472\n",
      "Epoch 5/5\n",
      "353/353 [==============================] - 1s 3ms/step - loss: 0.9784 - val_loss: 0.9425\n"
     ]
    },
    {
     "data": {
      "text/plain": [
       "<keras.callbacks.History at 0x7f098a1138d0>"
      ]
     },
     "execution_count": 35,
     "metadata": {},
     "output_type": "execute_result"
    }
   ],
   "source": [
    "# let's train just for 5 epochs\n",
    "model.fit(X_train_glove_scl,y=y_train_enc,batch_size=50,epochs=5,verbose=1,\n",
    "          validation_data=(X_test_glove_scl,y_test_enc))"
   ]
  },
  {
   "cell_type": "markdown",
   "id": "cca55db5",
   "metadata": {
    "papermill": {
     "duration": 0.948458,
     "end_time": "2022-08-31T13:53:34.599155",
     "exception": false,
     "start_time": "2022-08-31T13:53:33.650697",
     "status": "completed"
    },
    "tags": []
   },
   "source": [
    "# Simple RNN"
   ]
  },
  {
   "cell_type": "code",
   "execution_count": 36,
   "id": "8f6e8e13",
   "metadata": {
    "execution": {
     "iopub.execute_input": "2022-08-31T13:53:36.393224Z",
     "iopub.status.busy": "2022-08-31T13:53:36.392776Z",
     "iopub.status.idle": "2022-08-31T13:53:37.691919Z",
     "shell.execute_reply": "2022-08-31T13:53:37.690926Z"
    },
    "papermill": {
     "duration": 2.163459,
     "end_time": "2022-08-31T13:53:37.694367",
     "exception": false,
     "start_time": "2022-08-31T13:53:35.530908",
     "status": "completed"
    },
    "tags": []
   },
   "outputs": [],
   "source": [
    "# remember to totenize the words before feeding to RNN\n",
    "token = text.Tokenizer(num_words=None)\n",
    "max_len = 70\n",
    "\n",
    "token.fit_on_texts(list(X_train)+list(X_test))\n",
    "X_train_sec = token.texts_to_sequences(X_train)\n",
    "X_test_sec = token.texts_to_sequences(X_test)\n",
    "\n",
    "X_train_pad = sequence.pad_sequences(X_train_sec,maxlen=max_len)\n",
    "X_test_pad = sequence.pad_sequences(X_test_sec,maxlen=max_len)\n",
    "\n",
    "word_index = token.word_index"
   ]
  },
  {
   "cell_type": "code",
   "execution_count": 37,
   "id": "780b1d6e",
   "metadata": {
    "execution": {
     "iopub.execute_input": "2022-08-31T13:53:39.437197Z",
     "iopub.status.busy": "2022-08-31T13:53:39.436805Z",
     "iopub.status.idle": "2022-08-31T13:53:39.549904Z",
     "shell.execute_reply": "2022-08-31T13:53:39.548942Z"
    },
    "papermill": {
     "duration": 0.953104,
     "end_time": "2022-08-31T13:53:39.552275",
     "exception": false,
     "start_time": "2022-08-31T13:53:38.599171",
     "status": "completed"
    },
    "tags": []
   },
   "outputs": [],
   "source": [
    "model = Sequential()\n",
    "# we are not using pretrainde embedding yet.\n",
    "model.add(Embedding(len(word_index)+1,25,input_length=max_len))\n",
    "model.add(SimpleRNN(100))\n",
    "model.add(Dense(3))\n",
    "model.compile(loss='categorical_crossentropy',optimizer='adam')\n"
   ]
  },
  {
   "cell_type": "code",
   "execution_count": 38,
   "id": "5b279e2b",
   "metadata": {
    "execution": {
     "iopub.execute_input": "2022-08-31T13:53:41.367564Z",
     "iopub.status.busy": "2022-08-31T13:53:41.366887Z",
     "iopub.status.idle": "2022-08-31T13:53:41.454775Z",
     "shell.execute_reply": "2022-08-31T13:53:41.453672Z"
    },
    "papermill": {
     "duration": 0.995098,
     "end_time": "2022-08-31T13:53:41.457310",
     "exception": false,
     "start_time": "2022-08-31T13:53:40.462212",
     "status": "completed"
    },
    "tags": []
   },
   "outputs": [],
   "source": [
    "model = Sequential()\n",
    "# we are not using pretrainde embedding yet.\n",
    "model.add(Embedding(len(word_index)+1,25,input_length=max_len))\n",
    "model.add(SimpleRNN(100))\n",
    "model.add(Dense(3))\n",
    "model.compile(loss='categorical_crossentropy',optimizer='adam')"
   ]
  },
  {
   "cell_type": "code",
   "execution_count": 39,
   "id": "c3a38a08",
   "metadata": {
    "execution": {
     "iopub.execute_input": "2022-08-31T13:53:43.229330Z",
     "iopub.status.busy": "2022-08-31T13:53:43.228910Z",
     "iopub.status.idle": "2022-08-31T13:54:39.714478Z",
     "shell.execute_reply": "2022-08-31T13:54:39.713698Z"
    },
    "papermill": {
     "duration": 57.397482,
     "end_time": "2022-08-31T13:54:39.716844",
     "exception": false,
     "start_time": "2022-08-31T13:53:42.319362",
     "status": "completed"
    },
    "tags": []
   },
   "outputs": [
    {
     "name": "stdout",
     "output_type": "stream",
     "text": [
      "Epoch 1/5\n",
      "177/177 [==============================] - 12s 62ms/step - loss: 10.3232 - val_loss: 10.7097\n",
      "Epoch 2/5\n",
      "177/177 [==============================] - 11s 64ms/step - loss: 11.1906 - val_loss: 10.7097\n",
      "Epoch 3/5\n",
      "177/177 [==============================] - 11s 61ms/step - loss: 11.1906 - val_loss: 10.7097\n",
      "Epoch 4/5\n",
      "177/177 [==============================] - 11s 60ms/step - loss: 11.1906 - val_loss: 10.7097\n",
      "Epoch 5/5\n",
      "177/177 [==============================] - 11s 64ms/step - loss: 11.1906 - val_loss: 10.7097\n"
     ]
    },
    {
     "data": {
      "text/plain": [
       "<keras.callbacks.History at 0x7f09796072d0>"
      ]
     },
     "execution_count": 39,
     "metadata": {},
     "output_type": "execute_result"
    }
   ],
   "source": [
    "model.fit(X_train_pad,y=y_train_enc,epochs=5,batch_size=100,validation_data=(X_test_pad,y_test_enc))"
   ]
  },
  {
   "cell_type": "code",
   "execution_count": 40,
   "id": "1be35142",
   "metadata": {
    "execution": {
     "iopub.execute_input": "2022-08-31T13:54:41.597358Z",
     "iopub.status.busy": "2022-08-31T13:54:41.596319Z",
     "iopub.status.idle": "2022-08-31T13:54:41.642537Z",
     "shell.execute_reply": "2022-08-31T13:54:41.641639Z"
    },
    "papermill": {
     "duration": 0.948461,
     "end_time": "2022-08-31T13:54:41.645200",
     "exception": false,
     "start_time": "2022-08-31T13:54:40.696739",
     "status": "completed"
    },
    "tags": []
   },
   "outputs": [],
   "source": [
    "embedding_matrix = np.zeros((len(word_index)+1,25)) #25 because we have word vector of dim 25\n",
    "\n",
    "for word,i in word_index.items():\n",
    "    #we use get() so it returns None if word is not found\n",
    "    embedding_vector = embedding_index.get(word)\n",
    "    if embedding_vector is not None:\n",
    "        embedding_matrix[i] = embedding_vector"
   ]
  },
  {
   "cell_type": "code",
   "execution_count": 41,
   "id": "c98a9bd1",
   "metadata": {
    "execution": {
     "iopub.execute_input": "2022-08-31T13:54:43.512816Z",
     "iopub.status.busy": "2022-08-31T13:54:43.512242Z",
     "iopub.status.idle": "2022-08-31T13:54:43.601536Z",
     "shell.execute_reply": "2022-08-31T13:54:43.600360Z"
    },
    "papermill": {
     "duration": 0.9871,
     "end_time": "2022-08-31T13:54:43.604081",
     "exception": false,
     "start_time": "2022-08-31T13:54:42.616981",
     "status": "completed"
    },
    "tags": []
   },
   "outputs": [],
   "source": [
    "model = Sequential()\n",
    "# we are not using pretrainde embedding yet.\n",
    "model.add(Embedding(len(word_index)+1,25,\n",
    "                    weights=[embedding_matrix],\n",
    "                    input_length=max_len,\n",
    "                    trainable=False))\n",
    "#as the weight are predefined trainable is False\n",
    "model.add(SimpleRNN(100))\n",
    "model.add(Dropout(0.2))\n",
    "\n",
    "model.add(Dense(3, activation='softmax'))\n",
    "model.compile(loss='categorical_crossentropy',optimizer='adam')"
   ]
  },
  {
   "cell_type": "code",
   "execution_count": 42,
   "id": "2520250c",
   "metadata": {
    "execution": {
     "iopub.execute_input": "2022-08-31T13:54:45.525437Z",
     "iopub.status.busy": "2022-08-31T13:54:45.525040Z",
     "iopub.status.idle": "2022-08-31T13:55:31.498848Z",
     "shell.execute_reply": "2022-08-31T13:55:31.497521Z"
    },
    "papermill": {
     "duration": 46.943186,
     "end_time": "2022-08-31T13:55:31.501429",
     "exception": false,
     "start_time": "2022-08-31T13:54:44.558243",
     "status": "completed"
    },
    "tags": []
   },
   "outputs": [
    {
     "name": "stdout",
     "output_type": "stream",
     "text": [
      "Epoch 1/5\n",
      "177/177 [==============================] - 10s 51ms/step - loss: 1.0695 - val_loss: 0.9783\n",
      "Epoch 2/5\n",
      "177/177 [==============================] - 9s 51ms/step - loss: 0.9691 - val_loss: 0.9071\n",
      "Epoch 3/5\n",
      "177/177 [==============================] - 9s 53ms/step - loss: 0.9270 - val_loss: 0.8791\n",
      "Epoch 4/5\n",
      "177/177 [==============================] - 9s 49ms/step - loss: 0.9082 - val_loss: 0.8840\n",
      "Epoch 5/5\n",
      "177/177 [==============================] - 9s 48ms/step - loss: 0.8985 - val_loss: 0.9037\n"
     ]
    },
    {
     "data": {
      "text/plain": [
       "<keras.callbacks.History at 0x7f0978801a90>"
      ]
     },
     "execution_count": 42,
     "metadata": {},
     "output_type": "execute_result"
    }
   ],
   "source": [
    "model.fit(X_train_pad,y=y_train_enc,epochs=5,batch_size=100,validation_data=(X_test_pad,y_test_enc))"
   ]
  },
  {
   "cell_type": "markdown",
   "id": "8bf7104e",
   "metadata": {
    "papermill": {
     "duration": 0.98316,
     "end_time": "2022-08-31T13:55:33.482419",
     "exception": false,
     "start_time": "2022-08-31T13:55:32.499259",
     "status": "completed"
    },
    "tags": []
   },
   "source": [
    "# LSTM"
   ]
  },
  {
   "cell_type": "code",
   "execution_count": 43,
   "id": "eeaf477c",
   "metadata": {
    "execution": {
     "iopub.execute_input": "2022-08-31T13:55:35.393431Z",
     "iopub.status.busy": "2022-08-31T13:55:35.392991Z",
     "iopub.status.idle": "2022-08-31T13:55:35.607753Z",
     "shell.execute_reply": "2022-08-31T13:55:35.606805Z"
    },
    "papermill": {
     "duration": 1.200619,
     "end_time": "2022-08-31T13:55:35.610090",
     "exception": false,
     "start_time": "2022-08-31T13:55:34.409471",
     "status": "completed"
    },
    "tags": []
   },
   "outputs": [],
   "source": [
    "model = Sequential()\n",
    "\n",
    "model.add(Embedding(len(word_index)+1,25,\n",
    "                    weights=[embedding_matrix],\n",
    "                    input_length=max_len,\n",
    "                    trainable=False))\n",
    "\n",
    "model.add(SpatialDropout1D(0.3))\n",
    "model.add(LSTM(100,dropout=0.3,recurrent_dropout=0.3))\n",
    "\n",
    "model.add(Dense(1024,activation='relu'))\n",
    "model.add(Dropout(0.8))\n",
    "\n",
    "model.add(Dense(1024,activation='relu'))\n",
    "model.add(Dropout(0.8))\n",
    "\n",
    "model.add(Dense(3))\n",
    "model.add(Activation('softmax'))\n",
    "model.compile(loss='categorical_crossentropy', optimizer='adam')"
   ]
  },
  {
   "cell_type": "code",
   "execution_count": 44,
   "id": "c021b0ea",
   "metadata": {
    "execution": {
     "iopub.execute_input": "2022-08-31T13:55:37.539273Z",
     "iopub.status.busy": "2022-08-31T13:55:37.538677Z",
     "iopub.status.idle": "2022-08-31T14:06:05.923803Z",
     "shell.execute_reply": "2022-08-31T14:06:05.921283Z"
    },
    "papermill": {
     "duration": 629.329914,
     "end_time": "2022-08-31T14:06:05.926726",
     "exception": false,
     "start_time": "2022-08-31T13:55:36.596812",
     "status": "completed"
    },
    "tags": []
   },
   "outputs": [
    {
     "name": "stdout",
     "output_type": "stream",
     "text": [
      "Epoch 1/10\n",
      "150/177 [========================>.....] - ETA: 9s - loss: 1.0857[CV 2/2; 1/12] START lr__C=0.1, lr__penalty=l1, svd__n_components=120...........\n",
      "[CV 2/2; 1/12] END lr__C=0.1, lr__penalty=l1, svd__n_components=120;, score=nan total time=   1.9s\n",
      "[CV 2/2; 3/12] START lr__C=0.1, lr__penalty=l2, svd__n_components=120...........\n",
      "[CV 2/2; 3/12] END lr__C=0.1, lr__penalty=l2, svd__n_components=120;, score=-0.776 total time=   2.3s\n",
      "[CV 2/2; 5/12] START lr__C=1.0, lr__penalty=l1, svd__n_components=120...........\n",
      "[CV 2/2; 5/12] END lr__C=1.0, lr__penalty=l1, svd__n_components=120;, score=nan total time=   2.0s\n",
      "[CV 2/2; 6/12] START lr__C=1.0, lr__penalty=l1, svd__n_components=180...........\n",
      "[CV 2/2; 6/12] END lr__C=1.0, lr__penalty=l1, svd__n_components=180;, score=nan total time=   2.9s\n",
      "[CV 2/2; 8/12] START lr__C=1.0, lr__penalty=l2, svd__n_components=180...........\n",
      "[CV 2/2; 8/12] END lr__C=1.0, lr__penalty=l2, svd__n_components=180;, score=-0.746 total time=   3.9s\n",
      "[CV 2/2; 11/12] START lr__C=10, lr__penalty=l2, svd__n_components=120...........\n",
      "[CV 2/2; 11/12] END lr__C=10, lr__penalty=l2, svd__n_components=120;, score=-0.777 total time=   2.3s\n",
      "[CV 2/2; 1/6] START nb__alpha=0.001.............................................\n",
      "[CV 2/2; 1/6] END .............nb__alpha=0.001;, score=-0.618 total time=   0.0s\n",
      "[CV 2/2; 3/6] START nb__alpha=0.1...............................................\n",
      "[CV 2/2; 3/6] END ...............nb__alpha=0.1;, score=-0.489 total time=   0.0s\n",
      "[CV 2/2; 5/6] START nb__alpha=10................................................\n",
      "[CV 2/2; 5/6] END ................nb__alpha=10;, score=-0.952 total time=   0.0s\n",
      "[CV 1/2; 2/12] START lr__C=0.1, lr__penalty=l1, svd__n_components=180...........\n",
      "[CV 1/2; 2/12] END lr__C=0.1, lr__penalty=l1, svd__n_components=180;, score=nan total time=   3.1s\n",
      "[CV 1/2; 4/12] START lr__C=0.1, lr__penalty=l2, svd__n_components=180...........\n",
      "[CV 1/2; 4/12] END lr__C=0.1, lr__penalty=l2, svd__n_components=180;, score=-0.735 total time=   3.6s\n",
      "[CV 1/2; 7/12] START lr__C=1.0, lr__penalty=l2, svd__n_components=120...........\n",
      "[CV 1/2; 7/12] END lr__C=1.0, lr__penalty=l2, svd__n_components=120;, score=-0.778 total time=   2.5s\n",
      "[CV 1/2; 9/12] START lr__C=10, lr__penalty=l1, svd__n_components=120............\n",
      "[CV 1/2; 9/12] END lr__C=10, lr__penalty=l1, svd__n_components=120;, score=nan total time=   2.2s\n",
      "[CV 1/2; 10/12] START lr__C=10, lr__penalty=l1, svd__n_components=180...........\n",
      "[CV 1/2; 10/12] END lr__C=10, lr__penalty=l1, svd__n_components=180;, score=nan total time=   3.1s\n",
      "[CV 1/2; 12/12] START lr__C=10, lr__penalty=l2, svd__n_components=180...........\n",
      "[CV 1/2; 12/12] END lr__C=10, lr__penalty=l2, svd__n_components=180;, score=-0.743 total time=   2.7s\n",
      "[CV 1/2; 2/6] START nb__alpha=0.01..............................................\n",
      "[CV 1/2; 2/6] END ..............nb__alpha=0.01;, score=-0.516 total time=   0.0s\n",
      "[CV 1/2; 4/6] START nb__alpha=1.................................................\n",
      "[CV 1/2; 4/6] END .................nb__alpha=1;, score=-0.666 total time=   0.0s\n",
      "[CV 1/2; 6/6] START nb__alpha=100...............................................\n",
      "[CV 1/2; 6/6] END ...............nb__alpha=100;, score=-1.068 total time=   0.0s\n",
      "151/177 [========================>.....] - ETA: 8s - loss: 1.0855[CV 1/2; 1/12] START lr__C=0.1, lr__penalty=l1, svd__n_components=120...........\n",
      "[CV 1/2; 1/12] END lr__C=0.1, lr__penalty=l1, svd__n_components=120;, score=nan total time=   1.9s\n",
      "[CV 1/2; 3/12] START lr__C=0.1, lr__penalty=l2, svd__n_components=120...........\n",
      "[CV 1/2; 3/12] END lr__C=0.1, lr__penalty=l2, svd__n_components=120;, score=-0.765 total time=   2.2s\n",
      "[CV 1/2; 5/12] START lr__C=1.0, lr__penalty=l1, svd__n_components=120...........\n",
      "[CV 1/2; 5/12] END lr__C=1.0, lr__penalty=l1, svd__n_components=120;, score=nan total time=   2.0s\n",
      "[CV 1/2; 6/12] START lr__C=1.0, lr__penalty=l1, svd__n_components=180...........\n",
      "[CV 1/2; 6/12] END lr__C=1.0, lr__penalty=l1, svd__n_components=180;, score=nan total time=   2.8s\n",
      "[CV 1/2; 8/12] START lr__C=1.0, lr__penalty=l2, svd__n_components=180...........\n",
      "[CV 1/2; 8/12] END lr__C=1.0, lr__penalty=l2, svd__n_components=180;, score=-0.740 total time=   3.8s\n",
      "[CV 1/2; 11/12] START lr__C=10, lr__penalty=l2, svd__n_components=120...........\n",
      "[CV 1/2; 11/12] END lr__C=10, lr__penalty=l2, svd__n_components=120;, score=-0.778 total time=   2.3s\n",
      "[CV 2/2; 12/12] START lr__C=10, lr__penalty=l2, svd__n_components=180...........\n",
      "[CV 2/2; 12/12] END lr__C=10, lr__penalty=l2, svd__n_components=180;, score=-0.740 total time=   2.6s\n",
      "[CV 2/2; 2/6] START nb__alpha=0.01..............................................\n",
      "[CV 2/2; 2/6] END ..............nb__alpha=0.01;, score=-0.509 total time=   0.0s\n",
      "[CV 2/2; 4/6] START nb__alpha=1.................................................\n",
      "[CV 2/2; 4/6] END .................nb__alpha=1;, score=-0.667 total time=   0.0s\n",
      "[CV 2/2; 6/6] START nb__alpha=100...............................................\n",
      "[CV 2/2; 6/6] END ...............nb__alpha=100;, score=-1.068 total time=   0.0s\n",
      "[CV 2/2; 2/12] START lr__C=0.1, lr__penalty=l1, svd__n_components=180...........\n",
      "[CV 2/2; 2/12] END lr__C=0.1, lr__penalty=l1, svd__n_components=180;, score=nan total time=   3.1s\n",
      "[CV 2/2; 4/12] START lr__C=0.1, lr__penalty=l2, svd__n_components=180...........\n",
      "[CV 2/2; 4/12] END lr__C=0.1, lr__penalty=l2, svd__n_components=180;, score=-0.738 total time=   3.8s\n",
      "[CV 2/2; 7/12] START lr__C=1.0, lr__penalty=l2, svd__n_components=120...........\n",
      "[CV 2/2; 7/12] END lr__C=1.0, lr__penalty=l2, svd__n_components=120;, score=-0.777 total time=   2.8s\n",
      "[CV 2/2; 9/12] START lr__C=10, lr__penalty=l1, svd__n_components=120............\n",
      "[CV 2/2; 9/12] END lr__C=10, lr__penalty=l1, svd__n_components=120;, score=nan total time=   2.2s\n",
      "[CV 2/2; 10/12] START lr__C=10, lr__penalty=l1, svd__n_components=180...........\n",
      "[CV 2/2; 10/12] END lr__C=10, lr__penalty=l1, svd__n_components=180;, score=nan total time=   3.3s\n",
      "[CV 1/2; 1/6] START nb__alpha=0.001.............................................\n",
      "[CV 1/2; 1/6] END .............nb__alpha=0.001;, score=-0.628 total time=   0.0s\n",
      "[CV 1/2; 3/6] START nb__alpha=0.1...............................................\n",
      "[CV 1/2; 3/6] END ...............nb__alpha=0.1;, score=-0.493 total time=   0.0s\n",
      "[CV 1/2; 5/6] START nb__alpha=10................................................\n",
      "[CV 1/2; 5/6] END ................nb__alpha=10;, score=-0.951 total time=   0.0s\n",
      "177/177 [==============================] - 68s 356ms/step - loss: 1.0812 - val_loss: 0.9951\n",
      "Epoch 2/10\n",
      "177/177 [==============================] - 63s 357ms/step - loss: 1.0240 - val_loss: 0.9615\n",
      "Epoch 3/10\n",
      "177/177 [==============================] - 62s 351ms/step - loss: 1.0073 - val_loss: 1.0221\n",
      "Epoch 4/10\n",
      "177/177 [==============================] - 62s 352ms/step - loss: 0.9945 - val_loss: 0.9295\n",
      "Epoch 5/10\n",
      "177/177 [==============================] - 63s 355ms/step - loss: 0.9803 - val_loss: 0.9371\n",
      "Epoch 6/10\n",
      "177/177 [==============================] - 63s 354ms/step - loss: 0.9697 - val_loss: 0.9080\n",
      "Epoch 7/10\n",
      "177/177 [==============================] - 63s 354ms/step - loss: 0.9708 - val_loss: 0.9090\n",
      "Epoch 8/10\n",
      "177/177 [==============================] - 61s 345ms/step - loss: 0.9550 - val_loss: 0.8587\n",
      "Epoch 9/10\n",
      "177/177 [==============================] - 62s 349ms/step - loss: 0.9496 - val_loss: 0.8867\n",
      "Epoch 10/10\n",
      "177/177 [==============================] - 62s 352ms/step - loss: 0.9441 - val_loss: 0.8598\n"
     ]
    },
    {
     "data": {
      "text/plain": [
       "<keras.callbacks.History at 0x7f09782d7850>"
      ]
     },
     "execution_count": 44,
     "metadata": {},
     "output_type": "execute_result"
    }
   ],
   "source": [
    "model.fit(X_train_pad,y=y_train_enc,batch_size=100,epochs=10,verbose=1,\n",
    "          validation_data=(X_test_pad,y_test_enc))"
   ]
  },
  {
   "cell_type": "markdown",
   "id": "74080a1b",
   "metadata": {
    "papermill": {
     "duration": 1.163888,
     "end_time": "2022-08-31T14:06:08.191802",
     "exception": false,
     "start_time": "2022-08-31T14:06:07.027914",
     "status": "completed"
    },
    "tags": []
   },
   "source": [
    "# GRU"
   ]
  },
  {
   "cell_type": "code",
   "execution_count": 45,
   "id": "7174a298",
   "metadata": {
    "execution": {
     "iopub.execute_input": "2022-08-31T14:06:10.398081Z",
     "iopub.status.busy": "2022-08-31T14:06:10.396940Z",
     "iopub.status.idle": "2022-08-31T14:06:11.187857Z",
     "shell.execute_reply": "2022-08-31T14:06:11.186853Z"
    },
    "papermill": {
     "duration": 1.848174,
     "end_time": "2022-08-31T14:06:11.190495",
     "exception": false,
     "start_time": "2022-08-31T14:06:09.342321",
     "status": "completed"
    },
    "tags": []
   },
   "outputs": [],
   "source": [
    "model = Sequential()\n",
    "\n",
    "model.add(Embedding(len(word_index)+1,25,\n",
    "                    weights=[embedding_matrix],\n",
    "                    input_length=max_len,\n",
    "                    trainable=False))\n",
    "\n",
    "model.add(SpatialDropout1D(0.3))\n",
    "model.add(GRU(100))\n",
    "\n",
    "model.add(Dense(1024,activation='relu'))\n",
    "model.add(Dropout(0.8))\n",
    "\n",
    "model.add(Dense(1024,activation='relu'))\n",
    "model.add(Dropout(0.8))\n",
    "\n",
    "model.add(Dense(3))\n",
    "model.add(Activation('softmax'))\n",
    "model.compile(loss='categorical_crossentropy', optimizer='adam')"
   ]
  },
  {
   "cell_type": "code",
   "execution_count": 46,
   "id": "0822a116",
   "metadata": {
    "execution": {
     "iopub.execute_input": "2022-08-31T14:06:13.417430Z",
     "iopub.status.busy": "2022-08-31T14:06:13.416439Z",
     "iopub.status.idle": "2022-08-31T14:09:46.982482Z",
     "shell.execute_reply": "2022-08-31T14:09:46.981545Z"
    },
    "papermill": {
     "duration": 214.680719,
     "end_time": "2022-08-31T14:09:46.984766",
     "exception": false,
     "start_time": "2022-08-31T14:06:12.304047",
     "status": "completed"
    },
    "tags": []
   },
   "outputs": [
    {
     "name": "stdout",
     "output_type": "stream",
     "text": [
      "Epoch 1/5\n",
      "177/177 [==============================] - 45s 239ms/step - loss: 1.0936 - val_loss: 1.0260\n",
      "Epoch 2/5\n",
      "177/177 [==============================] - 42s 239ms/step - loss: 1.0272 - val_loss: 0.9429\n",
      "Epoch 3/5\n",
      "177/177 [==============================] - 42s 240ms/step - loss: 0.9769 - val_loss: 0.9044\n",
      "Epoch 4/5\n",
      "177/177 [==============================] - 41s 233ms/step - loss: 0.9528 - val_loss: 0.8953\n",
      "Epoch 5/5\n",
      "177/177 [==============================] - 42s 236ms/step - loss: 0.9322 - val_loss: 0.8818\n"
     ]
    },
    {
     "data": {
      "text/plain": [
       "<keras.callbacks.History at 0x7f095e748ed0>"
      ]
     },
     "execution_count": 46,
     "metadata": {},
     "output_type": "execute_result"
    }
   ],
   "source": [
    "model.fit(X_train_pad,y=y_train_enc,batch_size=100,epochs=5,verbose=1,\n",
    "          validation_data=(X_test_pad,y_test_enc))"
   ]
  },
  {
   "cell_type": "markdown",
   "id": "fa492005",
   "metadata": {
    "papermill": {
     "duration": 1.12198,
     "end_time": "2022-08-31T14:09:49.326857",
     "exception": false,
     "start_time": "2022-08-31T14:09:48.204877",
     "status": "completed"
    },
    "tags": []
   },
   "source": [
    "# Bidirectional LSTM"
   ]
  },
  {
   "cell_type": "code",
   "execution_count": 47,
   "id": "b924ce2f",
   "metadata": {
    "execution": {
     "iopub.execute_input": "2022-08-31T14:09:51.654858Z",
     "iopub.status.busy": "2022-08-31T14:09:51.653824Z",
     "iopub.status.idle": "2022-08-31T14:09:51.995929Z",
     "shell.execute_reply": "2022-08-31T14:09:51.994678Z"
    },
    "papermill": {
     "duration": 1.507401,
     "end_time": "2022-08-31T14:09:51.998465",
     "exception": false,
     "start_time": "2022-08-31T14:09:50.491064",
     "status": "completed"
    },
    "tags": []
   },
   "outputs": [],
   "source": [
    "model = Sequential()\n",
    "\n",
    "model.add(Embedding(len(word_index)+1,25,\n",
    "                    weights=[embedding_matrix],\n",
    "                    input_length=max_len,\n",
    "                    trainable=False))\n",
    "\n",
    "model.add(Bidirectional(LSTM(25, dropout=0.3, recurrent_dropout=0.3)))\n",
    "    \n",
    "model.add(Dense(1024,activation='relu'))\n",
    "model.add(Dropout(0.8))\n",
    "\n",
    "model.add(Dense(1024,activation='relu'))\n",
    "model.add(Dropout(0.8))\n",
    "\n",
    "model.add(Dense(3))\n",
    "model.add(Activation('softmax'))\n",
    "model.compile(loss='categorical_crossentropy', optimizer='adam')"
   ]
  },
  {
   "cell_type": "code",
   "execution_count": 48,
   "id": "0e68573f",
   "metadata": {
    "execution": {
     "iopub.execute_input": "2022-08-31T14:09:54.294996Z",
     "iopub.status.busy": "2022-08-31T14:09:54.294530Z",
     "iopub.status.idle": "2022-08-31T14:14:09.171449Z",
     "shell.execute_reply": "2022-08-31T14:14:09.170274Z"
    },
    "papermill": {
     "duration": 255.99197,
     "end_time": "2022-08-31T14:14:09.174074",
     "exception": false,
     "start_time": "2022-08-31T14:09:53.182104",
     "status": "completed"
    },
    "tags": []
   },
   "outputs": [
    {
     "name": "stdout",
     "output_type": "stream",
     "text": [
      "Epoch 1/5\n",
      "177/177 [==============================] - 60s 289ms/step - loss: 1.0481 - val_loss: 0.9628\n",
      "Epoch 2/5\n",
      "177/177 [==============================] - 49s 275ms/step - loss: 0.9857 - val_loss: 0.9126\n",
      "Epoch 3/5\n",
      "177/177 [==============================] - 48s 274ms/step - loss: 0.9539 - val_loss: 0.8640\n",
      "Epoch 4/5\n",
      "177/177 [==============================] - 49s 276ms/step - loss: 0.9311 - val_loss: 0.8489\n",
      "Epoch 5/5\n",
      "177/177 [==============================] - 49s 275ms/step - loss: 0.9149 - val_loss: 0.8333\n"
     ]
    },
    {
     "data": {
      "text/plain": [
       "<keras.callbacks.History at 0x7f095d9507d0>"
      ]
     },
     "execution_count": 48,
     "metadata": {},
     "output_type": "execute_result"
    }
   ],
   "source": [
    "model.fit(X_train_pad,y=y_train_enc,batch_size=100,epochs=5,verbose=1,\n",
    "          validation_data=(X_test_pad,y_test_enc))"
   ]
  }
 ],
 "metadata": {
  "kernelspec": {
   "display_name": "Python 3",
   "language": "python",
   "name": "python3"
  },
  "language_info": {
   "codemirror_mode": {
    "name": "ipython",
    "version": 3
   },
   "file_extension": ".py",
   "mimetype": "text/x-python",
   "name": "python",
   "nbconvert_exporter": "python",
   "pygments_lexer": "ipython3",
   "version": "3.7.12"
  },
  "papermill": {
   "default_parameters": {},
   "duration": 1841.028413,
   "end_time": "2022-08-31T14:14:12.973672",
   "environment_variables": {},
   "exception": null,
   "input_path": "__notebook__.ipynb",
   "output_path": "__notebook__.ipynb",
   "parameters": {},
   "start_time": "2022-08-31T13:43:31.945259",
   "version": "2.3.4"
  }
 },
 "nbformat": 4,
 "nbformat_minor": 5
}
